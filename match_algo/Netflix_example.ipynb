{
 "cells": [
  {
   "cell_type": "code",
   "execution_count": 1,
   "metadata": {},
   "outputs": [],
   "source": [
    "import pandas as pd\n",
    "import numpy as np\n",
    "from sklearn.metrics.pairwise import cosine_similarity\n",
    "\n",
    "# Load data\n",
    "movies = pd.read_csv('https://raw.githubusercontent.com/zygmuntz/goodbooks-10k/master/books.csv')\n",
    "ratings = pd.read_csv('https://raw.githubusercontent.com/zygmuntz/goodbooks-10k/master/ratings.csv')"
   ]
  },
  {
   "cell_type": "code",
   "execution_count": 2,
   "metadata": {},
   "outputs": [
    {
     "name": "stdout",
     "output_type": "stream",
     "text": [
      "   user_id  book_id  rating  goodreads_book_id  best_book_id  work_id  \\\n",
      "0        1      258       5               1232          1232  3209783   \n",
      "1       11      258       3               1232          1232  3209783   \n",
      "2      143      258       4               1232          1232  3209783   \n",
      "3      242      258       5               1232          1232  3209783   \n",
      "4      325      258       4               1232          1232  3209783   \n",
      "\n",
      "   books_count       isbn        isbn13                          authors  ...  \\\n",
      "0          279  143034901  9.780143e+12  Carlos Ruiz Zafón, Lucia Graves  ...   \n",
      "1          279  143034901  9.780143e+12  Carlos Ruiz Zafón, Lucia Graves  ...   \n",
      "2          279  143034901  9.780143e+12  Carlos Ruiz Zafón, Lucia Graves  ...   \n",
      "3          279  143034901  9.780143e+12  Carlos Ruiz Zafón, Lucia Graves  ...   \n",
      "4          279  143034901  9.780143e+12  Carlos Ruiz Zafón, Lucia Graves  ...   \n",
      "\n",
      "   ratings_count work_ratings_count work_text_reviews_count ratings_1  \\\n",
      "0         263685             317554                   24652      4789   \n",
      "1         263685             317554                   24652      4789   \n",
      "2         263685             317554                   24652      4789   \n",
      "3         263685             317554                   24652      4789   \n",
      "4         263685             317554                   24652      4789   \n",
      "\n",
      "   ratings_2  ratings_3  ratings_4  ratings_5  \\\n",
      "0      11769      42214     101612     157170   \n",
      "1      11769      42214     101612     157170   \n",
      "2      11769      42214     101612     157170   \n",
      "3      11769      42214     101612     157170   \n",
      "4      11769      42214     101612     157170   \n",
      "\n",
      "                                           image_url  \\\n",
      "0  https://images.gr-assets.com/books/1344545047m...   \n",
      "1  https://images.gr-assets.com/books/1344545047m...   \n",
      "2  https://images.gr-assets.com/books/1344545047m...   \n",
      "3  https://images.gr-assets.com/books/1344545047m...   \n",
      "4  https://images.gr-assets.com/books/1344545047m...   \n",
      "\n",
      "                                     small_image_url  \n",
      "0  https://images.gr-assets.com/books/1344545047s...  \n",
      "1  https://images.gr-assets.com/books/1344545047s...  \n",
      "2  https://images.gr-assets.com/books/1344545047s...  \n",
      "3  https://images.gr-assets.com/books/1344545047s...  \n",
      "4  https://images.gr-assets.com/books/1344545047s...  \n",
      "\n",
      "[5 rows x 25 columns]\n"
     ]
    }
   ],
   "source": [
    "# Merge data\n",
    "data = pd.merge(ratings, movies, on='book_id')\n",
    "# print(movies.head())\n",
    "# print(ratings.head())\n",
    "print(data.head())"
   ]
  },
  {
   "cell_type": "code",
   "execution_count": 3,
   "metadata": {},
   "outputs": [],
   "source": [
    "# Create user-item matrix\n",
    "matrix = data.pivot_table(index='user_id', columns='title', values='rating')\n",
    "\n",
    "# Remove users who have rated fewer than 50 movies\n",
    "matrix = matrix.dropna(thresh=50, axis=1).fillna(0)"
   ]
  },
  {
   "cell_type": "code",
   "execution_count": 4,
   "metadata": {},
   "outputs": [
    {
     "name": "stdout",
     "output_type": "stream",
     "text": [
      "title     Angels (Walsh Family, #3)  \\\n",
      "user_id                               \n",
      "1                               0.0   \n",
      "2                               0.0   \n",
      "3                               0.0   \n",
      "4                               0.0   \n",
      "5                               0.0   \n",
      "...                             ...   \n",
      "53420                           0.0   \n",
      "53421                           0.0   \n",
      "53422                           0.0   \n",
      "53423                           0.0   \n",
      "53424                           0.0   \n",
      "\n",
      "title    \"حكايات فرغلي المستكاوي \"حكايتى مع كفر السحلاوية  #GIRLBOSS  \\\n",
      "user_id                                                                \n",
      "1                                                     0.0        0.0   \n",
      "2                                                     0.0        0.0   \n",
      "3                                                     0.0        0.0   \n",
      "4                                                     0.0        0.0   \n",
      "5                                                     0.0        0.0   \n",
      "...                                                   ...        ...   \n",
      "53420                                                 0.0        0.0   \n",
      "53421                                                 0.0        0.0   \n",
      "53422                                                 0.0        0.0   \n",
      "53423                                                 0.0        0.0   \n",
      "53424                                                 0.0        0.0   \n",
      "\n",
      "title    'Salem's Lot  'Tis (Frank McCourt, #2)  \\\n",
      "user_id                                           \n",
      "1                 0.0                       0.0   \n",
      "2                 0.0                       0.0   \n",
      "3                 0.0                       0.0   \n",
      "4                 0.0                       0.0   \n",
      "5                 0.0                       0.0   \n",
      "...               ...                       ...   \n",
      "53420             0.0                       0.0   \n",
      "53421             0.0                       0.0   \n",
      "53422             0.0                       0.0   \n",
      "53423             5.0                       0.0   \n",
      "53424             0.0                       0.0   \n",
      "\n",
      "title    1,000 Places to See Before You Die  1/4 جرام  \\\n",
      "user_id                                                 \n",
      "1                                       0.0       0.0   \n",
      "2                                       0.0       0.0   \n",
      "3                                       0.0       0.0   \n",
      "4                                       0.0       0.0   \n",
      "5                                       0.0       0.0   \n",
      "...                                     ...       ...   \n",
      "53420                                   0.0       0.0   \n",
      "53421                                   0.0       0.0   \n",
      "53422                                   0.0       0.0   \n",
      "53423                                   0.0       0.0   \n",
      "53424                                   0.0       0.0   \n",
      "\n",
      "title    10% Happier: How I Tamed the Voice in My Head, Reduced Stress Without Losing My Edge, and Found Self-Help That Actually Works  \\\n",
      "user_id                                                                                                                                  \n",
      "1                                                      0.0                                                                               \n",
      "2                                                      0.0                                                                               \n",
      "3                                                      0.0                                                                               \n",
      "4                                                      0.0                                                                               \n",
      "5                                                      0.0                                                                               \n",
      "...                                                    ...                                                                               \n",
      "53420                                                  0.0                                                                               \n",
      "53421                                                  0.0                                                                               \n",
      "53422                                                  0.0                                                                               \n",
      "53423                                                  0.0                                                                               \n",
      "53424                                                  0.0                                                                               \n",
      "\n",
      "title    100 Bullets, Vol. 1: First Shot, Last Call  100 Love Sonnets  ...  \\\n",
      "user_id                                                                ...   \n",
      "1                                               0.0               0.0  ...   \n",
      "2                                               0.0               0.0  ...   \n",
      "3                                               0.0               0.0  ...   \n",
      "4                                               0.0               0.0  ...   \n",
      "5                                               0.0               0.0  ...   \n",
      "...                                             ...               ...  ...   \n",
      "53420                                           0.0               0.0  ...   \n",
      "53421                                           0.0               0.0  ...   \n",
      "53422                                           0.0               0.0  ...   \n",
      "53423                                           0.0               0.0  ...   \n",
      "53424                                           0.0               0.0  ...   \n",
      "\n",
      "title    محال  مخطوطة بن إسحاق: مدينة الموتى  نادي السيارات  هشت کتاب  هيبتا  \\\n",
      "user_id                                                                        \n",
      "1         0.0                            0.0            0.0       0.0    0.0   \n",
      "2         0.0                            0.0            0.0       0.0    0.0   \n",
      "3         0.0                            0.0            0.0       0.0    0.0   \n",
      "4         0.0                            0.0            0.0       0.0    0.0   \n",
      "5         0.0                            0.0            0.0       0.0    0.0   \n",
      "...       ...                            ...            ...       ...    ...   \n",
      "53420     0.0                            0.0            0.0       0.0    0.0   \n",
      "53421     0.0                            0.0            0.0       0.0    0.0   \n",
      "53422     0.0                            0.0            0.0       0.0    0.0   \n",
      "53423     0.0                            0.0            0.0       0.0    0.0   \n",
      "53424     0.0                            0.0            0.0       0.0    0.0   \n",
      "\n",
      "title    واحة الغروب  يوتوبيا  ڤيرتيجو  \\\n",
      "user_id                                  \n",
      "1                0.0      0.0      0.0   \n",
      "2                0.0      0.0      0.0   \n",
      "3                0.0      0.0      0.0   \n",
      "4                0.0      0.0      0.0   \n",
      "5                0.0      0.0      0.0   \n",
      "...              ...      ...      ...   \n",
      "53420            0.0      0.0      0.0   \n",
      "53421            0.0      0.0      0.0   \n",
      "53422            0.0      0.0      0.0   \n",
      "53423            0.0      0.0      0.0   \n",
      "53424            0.0      0.0      0.0   \n",
      "\n",
      "title    キスよりも早く1 [Kisu Yorimo Hayaku 1] (Faster than a Kiss #1)  \\\n",
      "user_id                                                            \n",
      "1                                                      0.0         \n",
      "2                                                      0.0         \n",
      "3                                                      0.0         \n",
      "4                                                      0.0         \n",
      "5                                                      0.0         \n",
      "...                                                    ...         \n",
      "53420                                                  0.0         \n",
      "53421                                                  0.0         \n",
      "53422                                                  0.0         \n",
      "53423                                                  0.0         \n",
      "53424                                                  0.0         \n",
      "\n",
      "title    美少女戦士セーラームーン新装版 1 [Bishōjo Senshi Sailor Moon Shinsōban 1]  \n",
      "user_id                                                              \n",
      "1                                                      0.0           \n",
      "2                                                      0.0           \n",
      "3                                                      0.0           \n",
      "4                                                      0.0           \n",
      "5                                                      0.0           \n",
      "...                                                    ...           \n",
      "53420                                                  0.0           \n",
      "53421                                                  0.0           \n",
      "53422                                                  0.0           \n",
      "53423                                                  0.0           \n",
      "53424                                                  0.0           \n",
      "\n",
      "[53424 rows x 9955 columns]\n"
     ]
    }
   ],
   "source": [
    "print(matrix)"
   ]
  },
  {
   "cell_type": "code",
   "execution_count": 5,
   "metadata": {},
   "outputs": [
    {
     "name": "stdout",
     "output_type": "stream",
     "text": [
      "Top recommendations for user 1\n",
      "1 To Kill a Mockingbird\n",
      "2 The Kite Runner\n",
      "3 Life of Pi\n",
      "4 The Help\n",
      "5 Memoirs of a Geisha\n"
     ]
    }
   ],
   "source": [
    "\n",
    "\n",
    "# Calculate similarities\n",
    "similarities = cosine_similarity(matrix)\n",
    "\n",
    "# Get recommendations for user 1\n",
    "user_id = 1\n",
    "user_ratings = matrix.loc[user_id].values.reshape(1, -1)\n",
    "similar_users = similarities[user_id-1]\n",
    "indices = np.argsort(similar_users)[-10:]\n",
    "similar_ratings = matrix.iloc[indices].values\n",
    "weighted_ratings = np.multiply(similar_ratings.T, similar_users[indices]).T\n",
    "recommendations = weighted_ratings.sum(axis=0) / np.sum(similar_users[indices])\n",
    "\n",
    "# Print top 5 recommendations\n",
    "top_indices = np.argsort(recommendations)[-5:]\n",
    "top_movies = matrix.columns[top_indices]\n",
    "print(\"Top recommendations for user\", user_id)\n",
    "for i, title in enumerate(reversed(top_movies)):\n",
    "    print(i+1, title)"
   ]
  },
  {
   "attachments": {},
   "cell_type": "markdown",
   "metadata": {},
   "source": [
    "### Cosine Similarity"
   ]
  },
  {
   "cell_type": "code",
   "execution_count": 65,
   "metadata": {},
   "outputs": [
    {
     "name": "stderr",
     "output_type": "stream",
     "text": [
      "C:\\Users\\jialo\\AppData\\Local\\Temp\\ipykernel_15564\\3636132661.py:7: DtypeWarning: Columns (0,1,4,9,13,14,19,20,24,25,26,27,28,29,30,31,32,33,34,35,36,37,38,39,40,41,42,43,44,45,46,47,48,49,50,51,52,53,54,55,56,57,58,59,60,61,62,63,64,65,66,67,68,69,70,71,72,73,74,75,76,77,78,79,80,81,82,83,84,85,86,87,88,89,90,91,92,93,94,95,96,97,98,99,100,101,102,103,104,105,106,107,108,109,110,111,112,113,114,115,116,117,118,119,120,121,122,123,124,125,126,127,128,129,130,131,132,133,134,135,136,137,138,139,140,141,142,143,144,145,146,147,148,149,150,151,152,153,154,155,156,157,158,159,160,161,162,163,164,165,166,167,168,169,170,171,172,173,174,175,176,177,178,179,180,181,182,183,184,185,186,187,188,189,190,191,192,193,194,195,196,197,198,199,200,201,202,203,204,205,206,207,208,209,210,211,212,213,214,215,216,217,218,219,220,221,222,223,224,225,226,227,228,229,230,231,232,233,234,235,236,237,238,239,240,241,242,243,244,245,246,247,248,249,250,251,252,253,254,255,256,257,258,259,260,261,262,263,264,265,266,267,268,269,270,271,272,273,274,275,276,277,278,279,280,281,282,283,284,285,286,287,288,289,290,291,292,293,294,295,296,297,298,299,300,301,302,303,304,305,306,307,308,309,310,311,312,313,314,315,316,317,318,319,320,321,322,323,324,325,326,327,328,329,330,331,332,333,334,335,336,337,338,339,340,341,342,343,344,345,346,347,348,349,350,351,352,353,354,355,356,357,358,359,360,361,362,363,364,365,366,367,368,369,370,371,372,373,374,375,376,377,378,379,380,381,382,383,384,385,386,387,388,389,390,391,392,393,394,395,396,397,398,399,400,401,402,403,404,405,406,407,408,409,410,411,412,413,414,415,416,417,418,419,420,421,422,423,424,425,426,427,428,429,430,431,432,433,434,435,436,437,438,439,440,441,442,443,444,445,446,447,448,449,450,451,452,453,454,455,456,457,458,459,460,461,462,463,464,465,466,467,468,469,470,471,472,473,474,475,476,477,478,479,480,481,482,483,484,485,486,487,488,489,490,491,492,493,494,495,496,497,498,499,500,501,502,503,504,505,506,507,508,509,510,511,512,513,514,515,516,517,518,519,520,521,522,523,524,525,526,527,528,529,530,531,532,533,534,535,536,537,538,539,540,541,542,543,544,545,546,547,548,549,550,551,552,553,554,555,556,557,558,559,560,561,562,563,564,565,566,567,568,569,570,571,572,573,574,575,576,577,578,579,580,581,582,583,584,585,586,587,588,589,590,591,592,593,594,595,596,597,598,599,600,601,602,603,604,605,606,607,608,609,610,611,612,613,614,615,616,617,618,619,620,621,622,623,624,625,626,627,628,629,630,631,632,633,634,635,636,637,638,639,640,641,642,643,644,645,646,647,648,649,650,651,652,653,654,655,656,657,658,659,660,661,662,663,664,665,666,667,668,669,670,671,672,673,674,675,676,677,678,679,680,681,682,683,684,685,686,687,688,689,690,691,692,693,694,695,696,697,698,699,700,701,702,703,704,705,706,707,708,709,710,711,712,713,714,715,716,717,718,719,720,721,722,723,724,725,726,727,728,729,730,731,732,733,734,735,736,737,738,739,740,741,742,743,744,745,746,747,748,749,750,751,752,753,754,755,756,757,758,759,760,761,762,763,764,765,766,767,768,769,770,771,772,773,774,775,776,777,778,779,780,781,782,783,784,785,786,787,788,789,790,791,792,793,794,795,796,797,798,799,800,801,802,803,804,805,806,807,808,809,810,811,812,813,814,815,816,817,818,819,820,821,822,823,824,825,826,827,828,829,830,831,832,833,834,835,836,837,838,839,840,841,842,843,844,845,846,847,848,849,850,851,852,853,854,855,856,857,858,859,860,861,862,863,864,865,866,867,868,869,870,871,872,873,874,875,876,877,878,879,880,881,882,883,884,885,886,887,888,889,890,891,892,893,894,895,896,897,898,899,900,901,902,903,904,905,906,907,908,909,910,911,912,913,914,915,916,917,918,919,920,921,922,923,924,925,926,927,928,929,930,931,932,933,934,935,936,937,938,939,940,941,942,943,944,945,946,947,948,949,950,951,952,953,954,955,956,957,958,959,960,961,962,963,964,965,966,967,968,969,970,971,972,973,974,975,976,977,978,979,980,981,982,983,984,985,986,987,988,989,990,991,992,993,994,995,996,997,998,999,1000,1001,1002,1003,1004,1005,1006,1007,1008,1009,1010,1011,1012,1013,1014,1015,1016,1017,1018,1019,1020,1021,1022,1023,1024,1025,1026,1027,1028,1029,1030,1031,1032,1033,1034,1035,1036,1037,1038,1039,1040,1041,1042,1043,1044,1045,1046,1047,1048,1049,1050,1051,1052,1053,1054,1055,1056,1057,1058,1059,1060,1061,1062,1063,1064,1065,1066,1067,1068,1069,1070,1071,1072,1073,1074,1075,1076,1077,1078,1079,1080,1081,1082,1083,1084,1085,1086,1087,1088,1089,1090,1091,1092,1093,1094,1095,1096,1097,1098,1099,1100,1101,1102,1103,1104,1105,1106,1107,1108,1109,1110,1111,1112,1113,1114,1115,1116,1117,1118,1119,1120,1121,1122,1123,1124,1125,1126,1127,1128,1129,1130,1131,1132,1133,1134,1135,1136,1137,1138,1139,1140,1141,1142,1143,1144,1145,1146,1147,1148,1149,1150,1151,1152,1153,1154,1155,1156,1157,1158,1159,1160,1161,1162,1163,1164,1165,1166,1167,1168,1169,1170,1171,1172,1173,1174,1175,1176,1177,1178,1179,1180,1181,1182,1183,1184,1185,1186,1187,1188,1189,1190,1191,1192,1193,1194,1195,1196,1197,1198,1199,1200,1201,1202,1203,1204,1205,1206,1207,1208,1209,1210,1211,1212,1213,1214,1215,1216,1217,1218,1219,1220,1221,1222,1223,1224,1225,1226,1227,1228,1229,1230,1231,1232,1233,1234,1235,1236,1237,1238,1239,1240,1241,1242,1243,1244,1245,1246,1247,1248,1249,1250,1251,1252,1253,1254,1255,1256,1257,1258,1259,1260,1261,1262,1263,1264) have mixed types. Specify dtype option on import or set low_memory=False.\n",
      "  df = pd.read_csv(\"movie_dataset.csv\")\n"
     ]
    }
   ],
   "source": [
    "import pandas as pd\n",
    "import numpy as np\n",
    "from sklearn.feature_extraction.text import CountVectorizer\n",
    "from sklearn.metrics.pairwise import cosine_similarity\n",
    "import matplotlib.pyplot as plt\n",
    "import seaborn as sns\n",
    "df = pd.read_csv(\"movie_dataset.csv\")\n",
    "# df.index = df.index.astype(int)\n",
    "# df.index\n"
   ]
  },
  {
   "cell_type": "code",
   "execution_count": 66,
   "metadata": {},
   "outputs": [],
   "source": [
    "features = ['keywords', 'cast', 'genres', 'director']\n",
    "for feature in features:\n",
    "    df[feature] = df[feature].fillna('')"
   ]
  },
  {
   "cell_type": "code",
   "execution_count": 67,
   "metadata": {},
   "outputs": [],
   "source": [
    "def combined_features(row):\n",
    "    return row['keywords']+\" \"+row['cast']+\" \"+row['genres']+\" \"+row['director']\n",
    "df[\"combined_features\"] = df.apply(combined_features, axis =1)\n"
   ]
  },
  {
   "cell_type": "code",
   "execution_count": 68,
   "metadata": {},
   "outputs": [],
   "source": [
    "\n",
    "cv = CountVectorizer()\n",
    "count_matrix = cv.fit_transform(df[\"combined_features\"])\n",
    "# print(\"Count Matrix:\", count_matrix.toarray())\n",
    "cosine_sim = cosine_similarity(count_matrix)\n",
    "\n",
    "# cosine_sim"
   ]
  },
  {
   "cell_type": "code",
   "execution_count": 70,
   "metadata": {},
   "outputs": [],
   "source": [
    "movie_user_likes = \"Dead Poets Society\"\n",
    "def get_index_from_title(title):\n",
    "    return df[df.title == title][\"index\"].values[0]\n",
    "movie_index = get_index_from_title(movie_user_likes)"
   ]
  },
  {
   "cell_type": "code",
   "execution_count": 71,
   "metadata": {},
   "outputs": [],
   "source": [
    "similar_movies = list(enumerate(cosine_sim[movie_index]))"
   ]
  },
  {
   "cell_type": "code",
   "execution_count": 72,
   "metadata": {},
   "outputs": [],
   "source": [
    "sorted_similar_movies = sorted(similar_movies, key=lambda x:x[1], reverse=True)\n",
    "# sorted_similar_movies"
   ]
  },
  {
   "cell_type": "code",
   "execution_count": 74,
   "metadata": {},
   "outputs": [
    {
     "name": "stdout",
     "output_type": "stream",
     "text": [
      "Fur: An Imaginary Portrait of Diane Arbus\n",
      "Lucky You\n",
      "Me You and Five Bucks\n",
      "The Judge\n",
      "Sherlock Holmes: A Game of Shadows\n",
      "Zodiac\n",
      "The Mortal Instruments: City of Bones\n",
      "Two Girls and a Guy\n",
      "Grace of Monaco\n",
      "Radio\n",
      "Stoker\n",
      "The Singing Detective\n",
      "Home for the Holidays\n",
      "Endless Love\n",
      "Secret in Their Eyes\n",
      "The Scarlet Letter\n"
     ]
    }
   ],
   "source": [
    "def get_title_from_index(index):\n",
    "    # print(type(index),index)\n",
    "    return df.loc[index,\"title\"]\n",
    "i=0\n",
    "for movie in sorted_similar_movies:\n",
    "    print(get_title_from_index(movie[0]))\n",
    "    i=i+1\n",
    "    if i>15:\n",
    "        break"
   ]
  },
  {
   "cell_type": "code",
   "execution_count": 52,
   "metadata": {},
   "outputs": [
    {
     "data": {
      "text/plain": [
       "'Clash of the Titans'"
      ]
     },
     "execution_count": 52,
     "metadata": {},
     "output_type": "execute_result"
    }
   ],
   "source": [
    "df.loc['206','title']"
   ]
  }
 ],
 "metadata": {
  "kernelspec": {
   "display_name": "Python 3",
   "language": "python",
   "name": "python3"
  },
  "language_info": {
   "codemirror_mode": {
    "name": "ipython",
    "version": 3
   },
   "file_extension": ".py",
   "mimetype": "text/x-python",
   "name": "python",
   "nbconvert_exporter": "python",
   "pygments_lexer": "ipython3",
   "version": "3.11.0"
  },
  "orig_nbformat": 4,
  "vscode": {
   "interpreter": {
    "hash": "c261aea317cc0286b3b3261fbba9abdec21eaa57589985bb7a274bf54d6cc0a7"
   }
  }
 },
 "nbformat": 4,
 "nbformat_minor": 2
}
